{
  "cells": [
    {
      "cell_type": "markdown",
      "metadata": {
        "id": "kU1GMfVgBoAh"
      },
      "source": [
        "В домашней работе необходимо с помощью FastAPI реализовать REST API:\n",
        "\n",
        "На 3 балла. Твой REST API - это список покупок и содержит поля: название товара, группа товара (например, электроника или продовольствие), цена, единица измерения, количество. Также необходимо реализовать метод, который возвращает список - расходы по каждой группе товаров и сумму всех покупок. Также необходимо с помощью библиотеки requests продемонстрировать запросами к REST API, как работает ваш веб-сервис. Это задание можно сравнить с \"покрытием тестами\" вашего API. Нечто похожее делают тестировщики в ИТ-компаниях. Вам необходимо покрыть запросами все методы, которые вы реализуете на веб-сервере.\n",
        "\n",
        "На 4 балла. Вам необходимо сделать красивую документацию для твоего REST API с подробным описанием. Для этого тебе придется обратиться к документации:\n",
        "\n",
        "https://fastapi.tiangolo.com/ru/tutorial/metadata/\n",
        "\n",
        "https://fastapi.tiangolo.com/ru/tutorial/path-operation-configuration/#response-description\n",
        "\n",
        "На 5 баллов. Творческое задание. REST API можно использовать для взаимодействия с вашей моделью нейронной сети. Вы уже знаете, что можно обучить модель, а лучший результат выгрузить для дальнейшего использования. Для получения 5 баллов необходимо обучить свою модель, загрузить ее в Colab. Задача может быть любой: регрессии, классификации, входными данными могут быть картинки или текстовые данные. С помощью REST API обеспечьте взаимодействие с моделью. Это полностью творческое задание!"
      ]
    },
    {
      "cell_type": "code",
      "execution_count": null,
      "metadata": {
        "id": "ks-q6C1wdjn9"
      },
      "outputs": [],
      "source": [
        "!pip install fastapi # Установим FastAPI\n",
        "!pip install uvicorn # Установим ASGI-сервер\n",
        "!pip install python-multipart # Необходимая зависимость для FastAPI (для работы с данными отправленных форм на сайте)"
      ]
    },
    {
      "cell_type": "code",
      "execution_count": null,
      "metadata": {
        "colab": {
          "base_uri": "https://localhost:8080/"
        },
        "id": "YJx4oUNfdGe2",
        "outputId": "6ba0f856-5e41-4ae6-c4d3-1042d3f3f5cb"
      },
      "outputs": [
        {
          "name": "stdout",
          "output_type": "stream",
          "text": [
            "Overwriting main.py\n"
          ]
        }
      ],
      "source": [
        "%%writefile main.py\n",
        "\n",
        "import uuid\n",
        "from fastapi import FastAPI, Body\n",
        "from fastapi.responses import JSONResponse\n",
        "from collections import defaultdict\n",
        "\n",
        "# Определяем класс Purchase с полями:\n",
        "class Purchase:\n",
        "    def __init__(self, name, group, price, unit, quantity):\n",
        "        self.name = name\n",
        "        self.group = group\n",
        "        self.price = price\n",
        "        self.unit = unit\n",
        "        self.quantity = quantity\n",
        "        self.id = str(uuid.uuid4())\n",
        "\n",
        "\n",
        "# условная база данных - набор объектов Purchase\n",
        "purchases = [Purchase(\"Помидоры\", \"Продовольствие\", 200, \"кг\", 2),\n",
        "             Purchase(\"Телевизор\", \"Электроника\", 18000, \"шт\", 2),\n",
        "             Purchase(\"Миф\", \"Бытовая химия\", 80, \"шт\", 5),\n",
        "             Purchase(\"Сыр\", \"Продовольствие\", 800, \"кг\", 0.5),\n",
        "             Purchase(\"Арбуз\", \"Продовольствие\", 40, \"кг\", 5),\n",
        "             Purchase(\"Бумага А4\", \"Канцелярия\", 300, \"шт\", 2),\n",
        "             ]\n",
        "\n",
        "\n",
        "# для поиска товара в списке products\n",
        "def find_purchase(id):\n",
        "    for purchase in purchases:\n",
        "        if purchase.id == id:\n",
        "            return purchase\n",
        "    return None\n",
        "\n",
        "\n",
        "app = FastAPI()\n",
        "\n",
        "\n",
        "@app.get(\"/api/purchases\",\n",
        "         summary=\"Список покупок\",\n",
        "         description=\"Получение списка покупок из базы\"\n",
        "         )\n",
        "async def get_purchases():\n",
        "    return purchases\n",
        "\n",
        "\n",
        "@app.get(\"/api/purchases/{id}\",\n",
        "         summary=\"Покупка\",\n",
        "         description=\"Получение Покупки по идентификатору\")\n",
        "async def get_purchase(id):\n",
        "    # получаем покупку по id\n",
        "    purchase = find_purchase(id)\n",
        "    print(purchase)\n",
        "    # если не найден, отправляем статусный код и сообщение об ошибке\n",
        "    if not purchase:\n",
        "        return JSONResponse(\n",
        "            status_code=404,\n",
        "            content={\"message\": \"Покупка не найден\"}\n",
        "        )\n",
        "    # если пользователь найден, отправляем его\n",
        "    return purchase\n",
        "\n",
        "\n",
        "# Получение суммы всех покупок и расходов по каждой группе\n",
        "@app.get(\"/api/purchases_sum\",\n",
        "         summary=\"Сумма всех покупок\",\n",
        "         description=\"Получение суммы всех покупок и расходов по каждой группе\")\n",
        "async def get_purchases_sum():\n",
        "    d = defaultdict(list)\n",
        "    for purchase in purchases:\n",
        "        d[purchase.group].append(purchase.price * purchase.quantity)\n",
        "    purchases_group_sum = [(i, sum(k)) for i, k in d.items()]\n",
        "\n",
        "    return purchases_group_sum, sum(i[1] for i in purchases_group_sum)\n",
        "\n",
        "\n",
        "@app.post(\"/api/purchases\",\n",
        "          summary=\"Создание покупки\",\n",
        "          description=\"Добавление новой покупки в базу данных\")\n",
        "async def create_purchase(data=Body()):\n",
        "    purchase = Purchase(data[\"name\"], data[\"group\"], data[\"price\"], data[\"unit\"], data[\"quantity\"])\n",
        "    # добавляем объект в список purchases\n",
        "    purchases.append(purchase)\n",
        "    return purchase\n",
        "\n",
        "\n",
        "@app.put(\"/api/purchases\",\n",
        "         summary=\"Редактирование покупки\",\n",
        "         description=\"Редактирование покупки в базе данных\")\n",
        "async def edit_purchase(data=Body()):\n",
        "    # получаем покупку по id\n",
        "    purchase = find_purchase(data[\"id\"])\n",
        "    # если не найден, отправляем статусный код и сообщение об ошибке\n",
        "    if not purchase:\n",
        "        return JSONResponse(\n",
        "            status_code=404,\n",
        "            content={\"message\": \"Покупка не найден\"}\n",
        "        )\n",
        "    # если покупка найдена, изменяем её данные и отправляем обратно клиенту\n",
        "    purchase.name = data[\"name\"]\n",
        "    purchase.group = data[\"group\"]\n",
        "    purchase.price = data[\"price\"]\n",
        "    purchase.unit = data[\"unit\"]\n",
        "    purchase.quantity = data[\"quantity\"]\n",
        "    return purchase\n",
        "\n",
        "\n",
        "@app.delete(\"/api/purchases/{id}\",\n",
        "            summary=\"Удаление покупки\",\n",
        "            description=\"Удаление покупки из базы данных\")\n",
        "async def delete_purchase(id):\n",
        "    # получаем покупку по id\n",
        "    purchase = find_purchase(id)\n",
        "    # если не найден, отправляем статусный код и сообщение об ошибке\n",
        "    if not purchase:\n",
        "        return JSONResponse(\n",
        "            status_code=404,\n",
        "            content={\"message\": \"Покупка не найден\"}\n",
        "        )\n",
        "    purchases.remove(purchase)\n",
        "    return purchase"
      ]
    },
    {
      "cell_type": "code",
      "execution_count": null,
      "metadata": {
        "colab": {
          "base_uri": "https://localhost:8080/"
        },
        "id": "hk4sNsl1dZo9",
        "outputId": "d324e4c4-5da1-4206-fb3d-a6cd53d83036"
      },
      "outputs": [
        {
          "name": "stdout",
          "output_type": "stream",
          "text": [
            "nohup: appending output to 'nohup.out'\n"
          ]
        }
      ],
      "source": [
        "!nohup uvicorn main:app --reload &"
      ]
    },
    {
      "cell_type": "code",
      "execution_count": null,
      "metadata": {
        "id": "jQQQPay9fKvU"
      },
      "outputs": [],
      "source": [
        "import requests\n",
        "\n",
        "# Получим список покупок\n",
        "def get_purchases():\n",
        "    print('\\nСписок покупок:')\n",
        "    r = requests.get('http://127.0.0.1:8000/api/purchases')\n",
        "    purchases = r.json()\n",
        "    for purchase in purchases:\n",
        "        print(\n",
        "            f\"Покупка: {purchase['quantity']}{purchase['unit']} - {purchase['name']} ({purchase['group']}), цена {purchase['price']}р. за 1{purchase['unit']}, (id={purchase['id']})\")"
      ]
    },
    {
      "cell_type": "code",
      "execution_count": null,
      "metadata": {
        "colab": {
          "base_uri": "https://localhost:8080/"
        },
        "id": "CKjw5Cfw8mNJ",
        "outputId": "15e8fce8-6509-430d-ee0b-32e012ccab64"
      },
      "outputs": [
        {
          "name": "stdout",
          "output_type": "stream",
          "text": [
            "\n",
            "Список покупок:\n",
            "Покупка: 2кг - Помидоры (Продовольствие), цена 200р. за 1кг, (id=2ec65fa9-72bf-484e-8c05-a088c84fdf33)\n",
            "Покупка: 2шт - Телевизор (Электроника), цена 18000р. за 1шт, (id=d426ce87-510e-4a3b-900c-f7dba8b63d61)\n",
            "Покупка: 5шт - Миф (Бытовая химия), цена 80р. за 1шт, (id=ccbfe4af-61f8-4fb3-bf92-9f6f3fb64213)\n",
            "Покупка: 0.5кг - Сыр (Продовольствие), цена 800р. за 1кг, (id=530af903-d932-4498-bb8d-9bf892bc8b49)\n",
            "Покупка: 5кг - Арбуз (Продовольствие), цена 40р. за 1кг, (id=f4b15204-86dc-409a-8a55-f0d09bae777f)\n",
            "Покупка: 2шт - Бумага А4 (Канцелярия), цена 300р. за 1шт, (id=63f1606a-cbaf-4980-b047-135ac9137762)\n"
          ]
        }
      ],
      "source": [
        "get_purchases()"
      ]
    },
    {
      "cell_type": "code",
      "execution_count": null,
      "metadata": {
        "colab": {
          "base_uri": "https://localhost:8080/"
        },
        "id": "EHVfoLAniazL",
        "outputId": "4d480ddb-2bd7-4567-8d83-eb026905295f"
      },
      "outputs": [
        {
          "name": "stdout",
          "output_type": "stream",
          "text": [
            "У покупки (id=d426ce87-510e-4a3b-900c-f7dba8b63d61) новые значения: 1шт - Смартфон (Электроника), цена 12000р. за 1шт\n"
          ]
        }
      ],
      "source": [
        "r = requests.get('http://127.0.0.1:8000/api/purchases')\n",
        "purchases = r.json()\n",
        "\n",
        "# Меняем вторую покупку\n",
        "purchase = purchases[1]\n",
        "purchase['name'] = \"Смартфон\"\n",
        "purchase['group'] = \"Электроника\"\n",
        "purchase['price'] = 12000\n",
        "purchase['unit'] = 'шт'\n",
        "purchase['quantity'] = 1\n",
        "r = requests.put('http://127.0.0.1:8000/api/purchases', json=purchase)\n",
        "purchase = r.json()\n",
        "print(f\"У покупки (id={purchase['id']}) новые значения: {purchase['quantity']}{purchase['unit']} - {purchase['name']} ({purchase['group']}), цена {purchase['price']}р. за 1{purchase['unit']}\")"
      ]
    },
    {
      "cell_type": "code",
      "execution_count": null,
      "metadata": {
        "colab": {
          "base_uri": "https://localhost:8080/"
        },
        "id": "z9PfLREBibrT",
        "outputId": "379813ea-2da2-4372-9ade-421d732b1c75"
      },
      "outputs": [
        {
          "name": "stdout",
          "output_type": "stream",
          "text": [
            "\n",
            "Список покупок:\n",
            "Покупка: 2кг - Помидоры (Продовольствие), цена 200р. за 1кг, (id=2ec65fa9-72bf-484e-8c05-a088c84fdf33)\n",
            "Покупка: 1шт - Смартфон (Электроника), цена 12000р. за 1шт, (id=d426ce87-510e-4a3b-900c-f7dba8b63d61)\n",
            "Покупка: 5шт - Миф (Бытовая химия), цена 80р. за 1шт, (id=ccbfe4af-61f8-4fb3-bf92-9f6f3fb64213)\n",
            "Покупка: 0.5кг - Сыр (Продовольствие), цена 800р. за 1кг, (id=530af903-d932-4498-bb8d-9bf892bc8b49)\n",
            "Покупка: 5кг - Арбуз (Продовольствие), цена 40р. за 1кг, (id=f4b15204-86dc-409a-8a55-f0d09bae777f)\n",
            "Покупка: 2шт - Бумага А4 (Канцелярия), цена 300р. за 1шт, (id=63f1606a-cbaf-4980-b047-135ac9137762)\n"
          ]
        }
      ],
      "source": [
        "get_purchases()"
      ]
    },
    {
      "cell_type": "code",
      "execution_count": null,
      "metadata": {
        "colab": {
          "base_uri": "https://localhost:8080/"
        },
        "id": "RCpu1241iecD",
        "outputId": "e376fe49-0d89-429d-bf33-c17ede7847e2"
      },
      "outputs": [
        {
          "name": "stdout",
          "output_type": "stream",
          "text": [
            "Добавлена покупка: 10шт Мыло (Бытовая химия), цена 70р. за 1шт\n"
          ]
        }
      ],
      "source": [
        "# Добавление новой покупки\n",
        "new_purchase = {'name': 'Мыло', 'group': 'Бытовая химия', 'price': 70, 'unit': 'шт', 'quantity': 10}\n",
        "r = requests.post('http://127.0.0.1:8000/api/purchases', json=new_purchase)\n",
        "new_purchase = r.json()\n",
        "print(f\"Добавлена покупка: {new_purchase['quantity']}{new_purchase['unit']} {new_purchase['name']} ({new_purchase['group']}), цена {new_purchase['price']}р. за 1{new_purchase['unit']}\")"
      ]
    },
    {
      "cell_type": "code",
      "execution_count": null,
      "metadata": {
        "colab": {
          "base_uri": "https://localhost:8080/"
        },
        "id": "jIlQcN_sif96",
        "outputId": "b4e11929-420c-4a9b-8a02-5d76e467ca2c"
      },
      "outputs": [
        {
          "name": "stdout",
          "output_type": "stream",
          "text": [
            "\n",
            "Список покупок:\n",
            "Покупка: 2кг - Помидоры (Продовольствие), цена 200р. за 1кг, (id=2ec65fa9-72bf-484e-8c05-a088c84fdf33)\n",
            "Покупка: 1шт - Смартфон (Электроника), цена 12000р. за 1шт, (id=d426ce87-510e-4a3b-900c-f7dba8b63d61)\n",
            "Покупка: 5шт - Миф (Бытовая химия), цена 80р. за 1шт, (id=ccbfe4af-61f8-4fb3-bf92-9f6f3fb64213)\n",
            "Покупка: 0.5кг - Сыр (Продовольствие), цена 800р. за 1кг, (id=530af903-d932-4498-bb8d-9bf892bc8b49)\n",
            "Покупка: 5кг - Арбуз (Продовольствие), цена 40р. за 1кг, (id=f4b15204-86dc-409a-8a55-f0d09bae777f)\n",
            "Покупка: 2шт - Бумага А4 (Канцелярия), цена 300р. за 1шт, (id=63f1606a-cbaf-4980-b047-135ac9137762)\n",
            "Покупка: 10шт - Мыло (Бытовая химия), цена 70р. за 1шт, (id=2a7a5f52-39a3-4644-b973-4b350294b66e)\n"
          ]
        }
      ],
      "source": [
        "get_purchases()"
      ]
    },
    {
      "cell_type": "code",
      "execution_count": null,
      "metadata": {
        "colab": {
          "base_uri": "https://localhost:8080/"
        },
        "id": "B2Ll4bKVihni",
        "outputId": "6875066c-f48e-4448-c766-a82ac40d4f01"
      },
      "outputs": [
        {
          "name": "stdout",
          "output_type": "stream",
          "text": [
            "\n",
            "URI для отправки запроса: http://127.0.0.1:8000/api/purchases/d426ce87-510e-4a3b-900c-f7dba8b63d61\n",
            "Удалена покупка: 1шт Смартфон (Электроника), цена 12000р. за 1шт\n"
          ]
        }
      ],
      "source": [
        "# Удаление покупки\n",
        "del_purchase = purchases[1]['id']\n",
        "r = requests.delete(f\"http://127.0.0.1:8000/api/purchases/{del_purchase}\")\n",
        "del_purchase = r.json()\n",
        "print('\\nURI для отправки запроса:', r.request.url)\n",
        "print(f\"Удалена покупка: {del_purchase['quantity']}{del_purchase['unit']} {del_purchase['name']} ({del_purchase['group']}), цена {del_purchase['price']}р. за 1{del_purchase['unit']}\")"
      ]
    },
    {
      "cell_type": "code",
      "execution_count": null,
      "metadata": {
        "colab": {
          "base_uri": "https://localhost:8080/"
        },
        "id": "nfCVyMlKijDO",
        "outputId": "12da1676-e5c8-4ed0-ee88-977caa37b1c7"
      },
      "outputs": [
        {
          "name": "stdout",
          "output_type": "stream",
          "text": [
            "\n",
            "Список покупок:\n",
            "Покупка: 2кг - Помидоры (Продовольствие), цена 200р. за 1кг, (id=2ec65fa9-72bf-484e-8c05-a088c84fdf33)\n",
            "Покупка: 5шт - Миф (Бытовая химия), цена 80р. за 1шт, (id=ccbfe4af-61f8-4fb3-bf92-9f6f3fb64213)\n",
            "Покупка: 0.5кг - Сыр (Продовольствие), цена 800р. за 1кг, (id=530af903-d932-4498-bb8d-9bf892bc8b49)\n",
            "Покупка: 5кг - Арбуз (Продовольствие), цена 40р. за 1кг, (id=f4b15204-86dc-409a-8a55-f0d09bae777f)\n",
            "Покупка: 2шт - Бумага А4 (Канцелярия), цена 300р. за 1шт, (id=63f1606a-cbaf-4980-b047-135ac9137762)\n",
            "Покупка: 10шт - Мыло (Бытовая химия), цена 70р. за 1шт, (id=2a7a5f52-39a3-4644-b973-4b350294b66e)\n"
          ]
        }
      ],
      "source": [
        "get_purchases()"
      ]
    },
    {
      "cell_type": "code",
      "execution_count": null,
      "metadata": {
        "colab": {
          "base_uri": "https://localhost:8080/"
        },
        "id": "iI6xMpdWilMy",
        "outputId": "68ed3952-9164-4d3e-dd30-c35f12031654"
      },
      "outputs": [
        {
          "name": "stdout",
          "output_type": "stream",
          "text": [
            "\n",
            "URI для отправки запроса: http://127.0.0.1:8000/api/purchases/ccbfe4af-61f8-4fb3-bf92-9f6f3fb64213\n",
            "Найдена покупка: 5шт Миф (Бытовая химия), цена 80р. за 1шт\n"
          ]
        }
      ],
      "source": [
        "r = requests.get('http://127.0.0.1:8000/api/purchases')\n",
        "purchases = r.json()\n",
        "\n",
        "# Получение покупки по идентификатору\n",
        "purchase = purchases[1]['id']\n",
        "r = requests.get(f\"http://127.0.0.1:8000/api/purchases/{purchase}\")\n",
        "purchase = r.json()\n",
        "print('\\nURI для отправки запроса:', r.request.url)\n",
        "print(f\"Найдена покупка: {purchase['quantity']}{purchase['unit']} {purchase['name']} ({purchase['group']}), цена {purchase['price']}р. за 1{purchase['unit']}\")"
      ]
    },
    {
      "cell_type": "code",
      "execution_count": null,
      "metadata": {
        "colab": {
          "base_uri": "https://localhost:8080/"
        },
        "id": "9JFBoS86inzi",
        "outputId": "9a809d0e-e4dc-41ae-85f2-fc27719892aa"
      },
      "outputs": [
        {
          "name": "stdout",
          "output_type": "stream",
          "text": [
            "Расходы по каждой группе\n",
            "['Продовольствие', 1000.0]\n",
            "['Бытовая химия', 1100]\n",
            "['Канцелярия', 600]\n",
            "\n",
            "Cуммa всех покупок\n",
            "2700.0\n"
          ]
        }
      ],
      "source": [
        "# Получение суммы всех покупок и расходов по каждой группе\n",
        "r = requests.get(f\"http://127.0.0.1:8000/api/purchases_sum\")\n",
        "purchases_group_sum, purchases_sum = r.json()\n",
        "print('Расходы по каждой группе')\n",
        "for group in purchases_group_sum:\n",
        "    print(group)\n",
        "\n",
        "print('\\nCуммa всех покупок')\n",
        "print(purchases_sum)"
      ]
    }
  ],
  "metadata": {
    "colab": {
      "gpuType": "T4",
      "include_colab_link": true,
      "provenance": []
    },
    "kernelspec": {
      "display_name": "Python 3",
      "name": "python3"
    },
    "language_info": {
      "name": "python"
    }
  },
  "nbformat": 4,
  "nbformat_minor": 0
}
